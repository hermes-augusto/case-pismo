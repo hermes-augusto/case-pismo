{
  "cells": [
    {
      "cell_type": "markdown",
      "metadata": {
        "id": "TkxQ0fPA8Pwy"
      },
      "source": [
        "## Imports"
      ]
    },
    {
      "cell_type": "code",
      "execution_count": 14,
      "metadata": {
        "id": "zM5Sq_5lDhLQ"
      },
      "outputs": [],
      "source": [
        "import os\n",
        "import shutil\n",
        "from utils import ajust_file_tmp, create_dir, directory_tmp\n",
        "import pyspark\n",
        "from pyspark.sql import SparkSession\n",
        "from pyspark.sql.window import Window\n",
        "from pyspark.sql.functions import row_number, col,date_format"
      ]
    },
    {
      "cell_type": "code",
      "execution_count": 24,
      "metadata": {
        "id": "2GjLbXiE9NP2"
      },
      "outputs": [
        {
          "data": {
            "text/plain": [
              "['events-8b908f99-0c4b-40f7-ba0c-70928dd95aeb.json, Ajustado com sucesso!',\n",
              " 'events-f13735e0-1796-4e5a-ac28-b741a43283b4.json, Ajustado com sucesso!',\n",
              " 'events-5a1d977f-d295-4b8b-aa8f-3a0dbb661dfb.json, Ajustado com sucesso!',\n",
              " 'events-1f7df57a-e1c9-4b76-b795-962de9cc292e.json, Ajustado com sucesso!',\n",
              " 'events-a17ec8ab-8207-47e4-b632-77067f2622ae.json, Ajustado com sucesso!',\n",
              " 'events-d9107ca9-619e-4bf2-b281-4b4a34f7fb44.json, Ajustado com sucesso!',\n",
              " 'events-ea3d7fe8-e94a-4380-b1c1-0e9e7b972168.json, Ajustado com sucesso!',\n",
              " 'events-88d5d460-d3ab-4058-9abd-fd07e033a337.json, Ajustado com sucesso!',\n",
              " 'events-2924398a-d266-4f0e-b9f9-d7d35979ec7f.json, Ajustado com sucesso!',\n",
              " 'events-6dea23dd-f46e-4f35-b948-4abe9cd6d1d7.json, Ajustado com sucesso!',\n",
              " 'events-c3c321e9-d229-4434-b8d2-a561698b184f.json, Ajustado com sucesso!',\n",
              " 'events-b9cd4135-4cba-44c6-8e00-3a46e97fc915.json, Ajustado com sucesso!',\n",
              " 'events-6feecebf-d7a1-4cf1-a153-ffb120d88e8a.json, Ajustado com sucesso!',\n",
              " 'events-845d5e63-78ff-471e-b045-5f1faeb8ed79.json, Ajustado com sucesso!']"
            ]
          },
          "execution_count": 24,
          "metadata": {},
          "output_type": "execute_result"
        }
      ],
      "source": [
        "tblists = create_dir(directory_tmp,\"../data/input/\")\n",
        "list(map(ajust_file_tmp,tblists))"
      ]
    },
    {
      "cell_type": "markdown",
      "metadata": {
        "id": "nAErHL6J8ea9"
      },
      "source": [
        "## SPARK"
      ]
    },
    {
      "cell_type": "code",
      "execution_count": 25,
      "metadata": {
        "id": "G74NxwWh8kuE"
      },
      "outputs": [],
      "source": [
        "spark = SparkSession.builder \\\n",
        "      .appName(\"pismo\") \\\n",
        "      .getOrCreate()"
      ]
    },
    {
      "cell_type": "code",
      "execution_count": 26,
      "metadata": {
        "colab": {
          "base_uri": "https://localhost:8080/"
        },
        "id": "tmLZzVC1S3Qi",
        "outputId": "d079d26b-fc69-46bc-aec8-ae5f03cbe945"
      },
      "outputs": [
        {
          "name": "stderr",
          "output_type": "stream",
          "text": [
            "                                                                                \r"
          ]
        },
        {
          "name": "stdout",
          "output_type": "stream",
          "text": [
            "root\n",
            " |-- data: struct (nullable = true)\n",
            " |    |-- addresses: array (nullable = true)\n",
            " |    |    |-- element: struct (containsNull = true)\n",
            " |    |    |    |-- city: string (nullable = true)\n",
            " |    |    |    |-- neighborhood: string (nullable = true)\n",
            " |    |    |    |-- number: string (nullable = true)\n",
            " |    |    |    |-- postcode: string (nullable = true)\n",
            " |    |    |    |-- state: string (nullable = true)\n",
            " |    |    |    |-- state_short: string (nullable = true)\n",
            " |    |    |    |-- street: string (nullable = true)\n",
            " |    |    |    |-- suffix: string (nullable = true)\n",
            " |    |-- amount: string (nullable = true)\n",
            " |    |-- company: struct (nullable = true)\n",
            " |    |    |-- addresses: array (nullable = true)\n",
            " |    |    |    |-- element: struct (containsNull = true)\n",
            " |    |    |    |    |-- city: string (nullable = true)\n",
            " |    |    |    |    |-- neighborhood: string (nullable = true)\n",
            " |    |    |    |    |-- number: string (nullable = true)\n",
            " |    |    |    |    |-- postcode: string (nullable = true)\n",
            " |    |    |    |    |-- state: string (nullable = true)\n",
            " |    |    |    |    |-- state_short: string (nullable = true)\n",
            " |    |    |    |    |-- street: string (nullable = true)\n",
            " |    |    |    |    |-- suffix: string (nullable = true)\n",
            " |    |    |-- name: string (nullable = true)\n",
            " |    |-- debit: struct (nullable = true)\n",
            " |    |    |-- address: string (nullable = true)\n",
            " |    |    |-- geo: array (nullable = true)\n",
            " |    |    |    |-- element: string (containsNull = true)\n",
            " |    |    |-- place: string (nullable = true)\n",
            " |    |-- from: struct (nullable = true)\n",
            " |    |    |-- account_id: long (nullable = true)\n",
            " |    |    |-- message: string (nullable = true)\n",
            " |    |    |-- name: string (nullable = true)\n",
            " |    |-- id: long (nullable = true)\n",
            " |    |-- new_status: string (nullable = true)\n",
            " |    |-- old_status: string (nullable = true)\n",
            " |    |-- person: struct (nullable = true)\n",
            " |    |    |-- birthdate: string (nullable = true)\n",
            " |    |    |-- full_name: string (nullable = true)\n",
            " |    |    |-- occupation: string (nullable = true)\n",
            " |    |-- reason: string (nullable = true)\n",
            " |    |-- recipient: struct (nullable = true)\n",
            " |    |    |-- carrier: string (nullable = true)\n",
            " |    |    |-- msisdn: string (nullable = true)\n",
            " |    |-- to: struct (nullable = true)\n",
            " |    |    |-- account_id: long (nullable = true)\n",
            " |    |    |-- message: string (nullable = true)\n",
            " |    |    |-- name: string (nullable = true)\n",
            " |    |-- type: string (nullable = true)\n",
            " |-- domain: string (nullable = true)\n",
            " |-- event_id: string (nullable = true)\n",
            " |-- event_type: string (nullable = true)\n",
            " |-- timestamp: string (nullable = true)\n",
            "\n",
            "+--------------------+-----------+--------------------+-------------+-------------------+\n",
            "|                data|     domain|            event_id|   event_type|          timestamp|\n",
            "+--------------------+-----------+--------------------+-------------+-------------------+\n",
            "|{null, null, null...|    account|d2b9bccc-c344-425...|status-change|2021-01-19T14:11:46|\n",
            "|{null, null, null...|    account|d2b9bccc-c344-425...|status-change|2021-01-19 14:11:55|\n",
            "|{[{Barros das Flo...|    account|c882e155-52a1-4aa...|     creation|2021-01-19T14:14:40|\n",
            "|{null, 3546.98, n...|transaction|36fa4df5-9804-46d...|     creation|2021-01-19T14:14:51|\n",
            "|{null, 3546.98, n...|transaction|36fa4df5-9804-46d...|     creation|2021-01-19 14:14:52|\n",
            "|{null, null, null...|    account|143fc0a0-8d08-4cc...|status-change|2021-01-19T14:15:28|\n",
            "|{null, null, null...|    account|143fc0a0-8d08-4cc...|status-change|2021-01-19 14:15:37|\n",
            "|{null, null, null...|    account|c9886f51-d1d4-4b9...|status-change|2021-01-19T14:16:36|\n",
            "|{null, null, null...|    account|0c303b06-0aab-4c8...|     creation|2021-01-19T14:16:46|\n",
            "|{null, 9455.92, n...|transaction|b7441707-762a-40e...|     creation|2021-01-19T14:17:16|\n",
            "+--------------------+-----------+--------------------+-------------+-------------------+\n",
            "only showing top 10 rows\n",
            "\n"
          ]
        },
        {
          "data": {
            "text/plain": [
              "101821"
            ]
          },
          "execution_count": 26,
          "metadata": {},
          "output_type": "execute_result"
        }
      ],
      "source": [
        "df = spark.read.option(\"recursiveFileLookup\",\"true\").json(\"../data/tmp/\")\n",
        "df.printSchema()\n",
        "df.show(10)\n",
        "df.count()"
      ]
    },
    {
      "cell_type": "code",
      "execution_count": 27,
      "metadata": {
        "colab": {
          "base_uri": "https://localhost:8080/"
        },
        "id": "tQrfQnJlJecj",
        "outputId": "0fe112c7-7640-4fab-846d-2087091cc2f6"
      },
      "outputs": [
        {
          "data": {
            "text/plain": [
              "81609"
            ]
          },
          "execution_count": 27,
          "metadata": {},
          "output_type": "execute_result"
        }
      ],
      "source": [
        "windowSpec  = Window.partitionBy(\"event_id\").orderBy(col(\"timestamp\").desc())\n",
        "df = df.withColumn(\"rw\",row_number().over(windowSpec))\n",
        "df = df.filter(df.rw==1)\n",
        "df.count()"
      ]
    },
    {
      "cell_type": "code",
      "execution_count": 28,
      "metadata": {
        "id": "NHDgaHIHAyo_"
      },
      "outputs": [
        {
          "name": "stderr",
          "output_type": "stream",
          "text": [
            "[Stage 46:===================>                                      (1 + 2) / 3]\r"
          ]
        },
        {
          "name": "stdout",
          "output_type": "stream",
          "text": [
            "+--------------------+-----------+--------------------+-------------+-------------------+---------+\n",
            "|                data|     domain|            event_id|   event_type|          timestamp|partition|\n",
            "+--------------------+-----------+--------------------+-------------+-------------------+---------+\n",
            "|{null, 9887.81, n...|transaction|00049b25-b426-4e2...|     creation|2021-01-04T23:48:19| 20210104|\n",
            "|{null, 7986.51, n...|transaction|00069a69-d72e-480...|     creation|2021-02-02T05:10:08| 20210202|\n",
            "|{null, 7687.7, nu...|transaction|0006d7ed-37c8-4e6...|     creation|2021-02-21T11:24:43| 20210221|\n",
            "|{null, null, null...|    account|0007cd0e-80f2-4cb...|status-change|2021-01-11T15:35:12| 20210111|\n",
            "|{null, 6454.48, n...|transaction|000f8c08-042a-49d...|     creation|2021-02-27T09:33:10| 20210227|\n",
            "|{null, 4899.99, n...|transaction|00157e0f-231f-42a...|     creation|2021-01-06T09:50:33| 20210106|\n",
            "|{null, 3446.77, n...|transaction|0015cc39-a7fb-476...|     creation|2021-01-21T05:54:11| 20210121|\n",
            "|{null, 9698.64, n...|transaction|0017a687-e14d-46b...|     creation|2021-02-23T13:08:05| 20210223|\n",
            "|{null, 9291.38, n...|transaction|00190229-8b70-4f8...|     creation|2021-02-13T02:10:53| 20210213|\n",
            "|{null, null, null...|    account|00193b8f-7eb6-486...|status-change|2021-01-19T08:20:01| 20210119|\n",
            "|{null, null, null...|    account|001f02c2-42ab-4fe...|status-change|2021-01-03T23:42:19| 20210103|\n",
            "|{null, 6810.83, n...|transaction|001ff7e3-652f-42e...|     creation|2021-01-02T23:42:15| 20210102|\n",
            "|{null, 8772.25, n...|transaction|0020d263-cf16-465...|     creation|2021-02-08T02:00:32| 20210208|\n",
            "|{null, null, {[],...|    account|00288763-8112-437...|     creation|2021-01-22T17:30:03| 20210122|\n",
            "|{null, 8082.12, n...|transaction|002da2fa-793d-448...|     creation|2021-01-29T08:01:48| 20210129|\n",
            "|{null, null, null...|    account|00313fe9-e601-447...|status-change|2021-01-18T12:00:31| 20210118|\n",
            "|{null, 2909.13, n...|transaction|0035ffd6-c954-40e...|     creation|2021-01-09T19:52:17| 20210109|\n",
            "|{null, 91.0, null...|transaction|003bd311-c42d-4bb...|     creation|2021-02-12T12:30:41| 20210212|\n",
            "|{null, null, null...|    account|003d2d12-863c-41c...|status-change|2021-02-07T20:29:09| 20210207|\n",
            "|{null, null, null...|    account|00422b8c-15bc-425...|status-change|2021-02-26T05:27:15| 20210226|\n",
            "+--------------------+-----------+--------------------+-------------+-------------------+---------+\n",
            "only showing top 20 rows\n",
            "\n"
          ]
        },
        {
          "name": "stderr",
          "output_type": "stream",
          "text": [
            "                                                                                \r"
          ]
        }
      ],
      "source": [
        "df = df.withColumn(\"partition\",date_format(df.timestamp,\"yyyyMMdd\"))\\\n",
        "    .drop(\"rw\")\n",
        "df.show()"
      ]
    },
    {
      "cell_type": "code",
      "execution_count": 29,
      "metadata": {},
      "outputs": [
        {
          "name": "stdout",
          "output_type": "stream",
          "text": [
            "root\n",
            " |-- domain: string (nullable = true)\n",
            " |-- event_id: string (nullable = true)\n",
            " |-- event_type: string (nullable = true)\n",
            " |-- timestamp: string (nullable = true)\n",
            " |-- partition: string (nullable = true)\n",
            " |-- addresses: array (nullable = true)\n",
            " |    |-- element: struct (containsNull = true)\n",
            " |    |    |-- city: string (nullable = true)\n",
            " |    |    |-- neighborhood: string (nullable = true)\n",
            " |    |    |-- number: string (nullable = true)\n",
            " |    |    |-- postcode: string (nullable = true)\n",
            " |    |    |-- state: string (nullable = true)\n",
            " |    |    |-- state_short: string (nullable = true)\n",
            " |    |    |-- street: string (nullable = true)\n",
            " |    |    |-- suffix: string (nullable = true)\n",
            " |-- amount: string (nullable = true)\n",
            " |-- company: struct (nullable = true)\n",
            " |    |-- addresses: array (nullable = true)\n",
            " |    |    |-- element: struct (containsNull = true)\n",
            " |    |    |    |-- city: string (nullable = true)\n",
            " |    |    |    |-- neighborhood: string (nullable = true)\n",
            " |    |    |    |-- number: string (nullable = true)\n",
            " |    |    |    |-- postcode: string (nullable = true)\n",
            " |    |    |    |-- state: string (nullable = true)\n",
            " |    |    |    |-- state_short: string (nullable = true)\n",
            " |    |    |    |-- street: string (nullable = true)\n",
            " |    |    |    |-- suffix: string (nullable = true)\n",
            " |    |-- name: string (nullable = true)\n",
            " |-- debit: struct (nullable = true)\n",
            " |    |-- address: string (nullable = true)\n",
            " |    |-- geo: array (nullable = true)\n",
            " |    |    |-- element: string (containsNull = true)\n",
            " |    |-- place: string (nullable = true)\n",
            " |-- from: struct (nullable = true)\n",
            " |    |-- account_id: long (nullable = true)\n",
            " |    |-- message: string (nullable = true)\n",
            " |    |-- name: string (nullable = true)\n",
            " |-- id: long (nullable = true)\n",
            " |-- new_status: string (nullable = true)\n",
            " |-- old_status: string (nullable = true)\n",
            " |-- person: struct (nullable = true)\n",
            " |    |-- birthdate: string (nullable = true)\n",
            " |    |-- full_name: string (nullable = true)\n",
            " |    |-- occupation: string (nullable = true)\n",
            " |-- reason: string (nullable = true)\n",
            " |-- recipient: struct (nullable = true)\n",
            " |    |-- carrier: string (nullable = true)\n",
            " |    |-- msisdn: string (nullable = true)\n",
            " |-- to: struct (nullable = true)\n",
            " |    |-- account_id: long (nullable = true)\n",
            " |    |-- message: string (nullable = true)\n",
            " |    |-- name: string (nullable = true)\n",
            " |-- type: string (nullable = true)\n",
            "\n"
          ]
        }
      ],
      "source": [
        "df = df.select(\"*\",\"data.*\").drop(\"data\")\n",
        "df.printSchema()"
      ]
    },
    {
      "cell_type": "code",
      "execution_count": 30,
      "metadata": {},
      "outputs": [
        {
          "name": "stderr",
          "output_type": "stream",
          "text": [
            "[Stage 49:======================================>                   (2 + 1) / 3]\r"
          ]
        },
        {
          "name": "stdout",
          "output_type": "stream",
          "text": [
            "+-----------+--------------------+-------------+-------------------+---------+---------+-------+------------------+--------------------+--------------------+------+----------+--------------+--------------------+--------------------+--------------------+--------------------+-----------------+\n",
            "|     domain|            event_id|   event_type|          timestamp|partition|addresses| amount|           company|               debit|                from|    id|new_status|    old_status|              person|              reason|           recipient|                  to|             type|\n",
            "+-----------+--------------------+-------------+-------------------+---------+---------+-------+------------------+--------------------+--------------------+------+----------+--------------+--------------------+--------------------+--------------------+--------------------+-----------------+\n",
            "|transaction|00049b25-b426-4e2...|     creation|2021-01-04T23:48:19| 20210104|     null|9887.81|              null|                null|                null|616884|      null|          null|                null|                null|                null|{1316, Recusandae...|          CASHOUT|\n",
            "|transaction|00069a69-d72e-480...|     creation|2021-02-02T05:10:08| 20210202|     null|7986.51|              null|                null|                null| 53344|      null|          null|                null|                null|                null|{9684, Quia bland...|          CASHOUT|\n",
            "|transaction|0006d7ed-37c8-4e6...|     creation|2021-02-21T11:24:43| 20210221|     null| 7687.7|              null|                null|{4919, Adipisci.,...|170792|      null|          null|                null|                null|                null|                null|           CASHIN|\n",
            "|    account|0007cd0e-80f2-4cb...|status-change|2021-01-11T15:35:12| 20210111|     null|   null|              null|                null|                null|455786|    ACTIVE|JUDICIAL_BLOCK|                null|Molestiae impedit...|                null|                null|             null|\n",
            "|transaction|000f8c08-042a-49d...|     creation|2021-02-27T09:33:10| 20210227|     null|6454.48|              null|{Recanto João Gui...|                null|942911|      null|          null|                null|                null|                null|                null|            DEBIT|\n",
            "|transaction|00157e0f-231f-42a...|     creation|2021-01-06T09:50:33| 20210106|     null|4899.99|              null|{Setor de Costela...|                null|610767|      null|          null|                null|                null|                null|                null|            DEBIT|\n",
            "|transaction|0015cc39-a7fb-476...|     creation|2021-01-21T05:54:11| 20210121|     null|3446.77|              null|                null|                null|120125|      null|          null|                null|                null|                null|{5046, Odio asper...|          CASHOUT|\n",
            "|transaction|0017a687-e14d-46b...|     creation|2021-02-23T13:08:05| 20210223|     null|9698.64|              null|                null|                null|605551|      null|          null|                null|                null|                null|{9507, Libero quo...|          CASHOUT|\n",
            "|transaction|00190229-8b70-4f8...|     creation|2021-02-13T02:10:53| 20210213|     null|9291.38|              null|{Setor Nicolas Mo...|                null| 36485|      null|          null|                null|                null|                null|                null|            DEBIT|\n",
            "|    account|00193b8f-7eb6-486...|status-change|2021-01-19T08:20:01| 20210119|     null|   null|              null|                null|                null|504958| SUSPENDED|        ACTIVE|                null|Eveniet error lau...|                null|                null|             null|\n",
            "|    account|001f02c2-42ab-4fe...|status-change|2021-01-03T23:42:19| 20210103|     null|   null|              null|                null|                null|198702|    ACTIVE|     SUSPENDED|                null|Corporis providen...|                null|                null|             null|\n",
            "|transaction|001ff7e3-652f-42e...|     creation|2021-01-02T23:42:15| 20210102|     null|6810.83|              null|{Alameda de da Cu...|                null|609165|      null|          null|                null|                null|                null|                null|            DEBIT|\n",
            "|transaction|0020d263-cf16-465...|     creation|2021-02-08T02:00:32| 20210208|     null|8772.25|              null|                null|{8944, Eveniet., ...| 35218|      null|          null|                null|                null|                null|                null|           CASHIN|\n",
            "|    account|00288763-8112-437...|     creation|2021-01-22T17:30:03| 20210122|     null|   null|{[], Mendes Ltda.}|                null|                null|203464|      null|          null|{1933-12-27, Lara...|                null|                null|                null|             null|\n",
            "|transaction|002da2fa-793d-448...|     creation|2021-01-29T08:01:48| 20210129|     null|8082.12|              null|{Parque Lucas Ara...|                null|659189|      null|          null|                null|                null|                null|                null|            DEBIT|\n",
            "|    account|00313fe9-e601-447...|status-change|2021-01-18T12:00:31| 20210118|     null|   null|              null|                null|                null|163255| CANCELLED|     SUSPENDED|                null|Architecto quibus...|                null|                null|             null|\n",
            "|transaction|0035ffd6-c954-40e...|     creation|2021-01-09T19:52:17| 20210109|     null|2909.13|              null|                null|                null|605054|      null|          null|                null|                null|                null|{4226, Neque., Dr...|          CASHOUT|\n",
            "|transaction|003bd311-c42d-4bb...|     creation|2021-02-12T12:30:41| 20210212|     null|   91.0|              null|                null|                null|833151|      null|          null|                null|                null|{HAZSGBHR, 555199...|                null|CELPHONE_RECHARGE|\n",
            "|    account|003d2d12-863c-41c...|status-change|2021-02-07T20:29:09| 20210207|     null|   null|              null|                null|                null| 74354|   BLOCKED|     SUSPENDED|                null|Commodi incidunt ...|                null|                null|             null|\n",
            "|    account|00422b8c-15bc-425...|status-change|2021-02-26T05:27:15| 20210226|     null|   null|              null|                null|                null|903602| SUSPENDED|JUDICIAL_BLOCK|                null|     Saepe expedita.|                null|                null|             null|\n",
            "+-----------+--------------------+-------------+-------------------+---------+---------+-------+------------------+--------------------+--------------------+------+----------+--------------+--------------------+--------------------+--------------------+--------------------+-----------------+\n",
            "only showing top 20 rows\n",
            "\n"
          ]
        },
        {
          "name": "stderr",
          "output_type": "stream",
          "text": [
            "                                                                                \r"
          ]
        }
      ],
      "source": [
        "df.show()"
      ]
    },
    {
      "cell_type": "code",
      "execution_count": 31,
      "metadata": {
        "id": "AU4MTUJW-f8N"
      },
      "outputs": [
        {
          "name": "stderr",
          "output_type": "stream",
          "text": [
            "                                                                                \r"
          ]
        }
      ],
      "source": [
        "df.write.partitionBy(\"domain\",\"partition\").mode(\"overwrite\").parquet(\"../data/output/\")"
      ]
    },
    {
      "cell_type": "markdown",
      "metadata": {},
      "source": [
        "## Revome tmp files"
      ]
    },
    {
      "cell_type": "code",
      "execution_count": 22,
      "metadata": {},
      "outputs": [],
      "source": [
        "shutil.rmtree(directory_tmp)"
      ]
    }
  ],
  "metadata": {
    "colab": {
      "collapsed_sections": [
        "IDzoeHq272pt",
        "mj0hqtrZ9biA"
      ],
      "provenance": []
    },
    "kernelspec": {
      "display_name": "Python 3.8.10 ('venv': venv)",
      "language": "python",
      "name": "python3"
    },
    "language_info": {
      "codemirror_mode": {
        "name": "ipython",
        "version": 3
      },
      "file_extension": ".py",
      "mimetype": "text/x-python",
      "name": "python",
      "nbconvert_exporter": "python",
      "pygments_lexer": "ipython3",
      "version": "3.8.10"
    },
    "vscode": {
      "interpreter": {
        "hash": "5172375ae6db17d8cd5ce3f17404da9425eb0dc7210fb3f19b2c44c6e525f6ba"
      }
    }
  },
  "nbformat": 4,
  "nbformat_minor": 0
}
